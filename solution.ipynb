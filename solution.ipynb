{
 "cells": [
  {
   "cell_type": "markdown",
   "id": "633981fc",
   "metadata": {},
   "source": [
    "# Practice web scraping"
   ]
  },
  {
   "cell_type": "markdown",
   "id": "540a8e5b",
   "metadata": {},
   "source": [
    "## Create a Python list with the top ten FBI's Most Wanted names: url = https://www.fbi.gov/wanted/topten"
   ]
  },
  {
   "cell_type": "code",
   "execution_count": 2,
   "id": "a475b66b",
   "metadata": {},
   "outputs": [],
   "source": [
    "from bs4 import BeautifulSoup\n",
    "import pandas as pd\n",
    "import requests"
   ]
  },
  {
   "cell_type": "code",
   "execution_count": 3,
   "id": "684df092",
   "metadata": {},
   "outputs": [
    {
     "data": {
      "text/plain": [
       "200"
      ]
     },
     "execution_count": 3,
     "metadata": {},
     "output_type": "execute_result"
    }
   ],
   "source": [
    "# get the html from wikipedia (coutries national anthems)\n",
    "url = requests.get('https://www.fbi.gov/wanted/topten')\n",
    "url.status_code"
   ]
  },
  {
   "cell_type": "code",
   "execution_count": 21,
   "id": "85bd45dd",
   "metadata": {
    "scrolled": true
   },
   "outputs": [],
   "source": [
    "soup = BeautifulSoup(url.content, \"html.parser\")"
   ]
  },
  {
   "cell_type": "code",
   "execution_count": 27,
   "id": "0cf0634c",
   "metadata": {},
   "outputs": [],
   "source": [
    "wanted = soup.find_all('li', {'class': 'portal-type-person castle-grid-block-item'})"
   ]
  },
  {
   "cell_type": "code",
   "execution_count": 28,
   "id": "66c1f958",
   "metadata": {},
   "outputs": [],
   "source": [
    "wanted_list = [x.text.strip() for x in wanted]"
   ]
  },
  {
   "cell_type": "code",
   "execution_count": 29,
   "id": "760ec586",
   "metadata": {},
   "outputs": [
    {
     "data": {
      "text/plain": [
       "[]"
      ]
     },
     "execution_count": 29,
     "metadata": {},
     "output_type": "execute_result"
    }
   ],
   "source": [
    "wanted_list"
   ]
  },
  {
   "cell_type": "markdown",
   "id": "67837f9e",
   "metadata": {},
   "source": [
    "### Display the 20 latest earthquakes info (date, time, latitude, longitude and region name) by the EMSC as a pandas dataframe: url = https://www.emsc-csem.org/Earthquake/"
   ]
  },
  {
   "cell_type": "code",
   "execution_count": 105,
   "id": "e094e1e3",
   "metadata": {},
   "outputs": [],
   "source": [
    "def fetch():\n",
    "    url = requests.get('https://www.emsc-csem.org/Earthquake/')\n",
    "    soup = BeautifulSoup(url.content, \"html.parser\")\n",
    "    latest_earthquakes = soup.find_all('tr',class_= 'ligne2 normal')\n",
    "    \n",
    "    records = []\n",
    "    for eq in latest_earthquakes:\n",
    "        region = eq.select_one('td.tb_region').text.strip()\n",
    "        lat, long = [l.text.strip() for l in eq.select('td.tabev1')]\n",
    "        ts = eq.find('td', class_='comment updatetimeno').text.strip()\n",
    "        record = {\n",
    "            'region': region,\n",
    "            'latitude': lat,\n",
    "            'longitude': long,\n",
    "            'timestamp': ts\n",
    "        }\n",
    "        \n",
    "        records.append(record)\n",
    "    return records"
   ]
  },
  {
   "cell_type": "code",
   "execution_count": 106,
   "id": "d1eb8646",
   "metadata": {},
   "outputs": [
    {
     "data": {
      "text/plain": [
       "[{'region': 'WESTERN TEXAS',\n",
       "  'latitude': '31.67',\n",
       "  'longitude': '104.37',\n",
       "  'timestamp': '2022-04-29 21:28'},\n",
       " {'region': 'CYPRUS REGION',\n",
       "  'latitude': '35.81',\n",
       "  'longitude': '31.15',\n",
       "  'timestamp': '2022-04-29 21:10'},\n",
       " {'region': 'SULAWESI, INDONESIA',\n",
       "  'latitude': '0.08',\n",
       "  'longitude': '123.21',\n",
       "  'timestamp': '2022-04-29 20:40'},\n",
       " {'region': 'NORTHERN CALIFORNIA',\n",
       "  'latitude': '41.68',\n",
       "  'longitude': '120.13',\n",
       "  'timestamp': '2022-04-29 20:43'},\n",
       " {'region': 'OFFSHORE VALPARAISO, CHILE',\n",
       "  'latitude': '32.52',\n",
       "  'longitude': '71.89',\n",
       "  'timestamp': '2022-04-29 19:55'},\n",
       " {'region': 'HOKKAIDO, JAPAN REGION',\n",
       "  'latitude': '41.40',\n",
       "  'longitude': '141.80',\n",
       "  'timestamp': '2022-04-29 19:30'},\n",
       " {'region': 'SOUTHWEST OF SUMATRA, INDONESIA',\n",
       "  'latitude': '6.36',\n",
       "  'longitude': '103.62',\n",
       "  'timestamp': '2022-04-29 19:25'},\n",
       " {'region': 'SULAWESI, INDONESIA',\n",
       "  'latitude': '0.26',\n",
       "  'longitude': '123.00',\n",
       "  'timestamp': '2022-04-29 19:10'},\n",
       " {'region': 'FRANCE',\n",
       "  'latitude': '45.45',\n",
       "  'longitude': '6.38',\n",
       "  'timestamp': '2022-04-29 19:01'},\n",
       " {'region': 'OFFSHORE OAXACA, MEXICO',\n",
       "  'latitude': '15.09',\n",
       "  'longitude': '96.81',\n",
       "  'timestamp': '2022-04-29 19:15'},\n",
       " {'region': 'SAMAR, PHILIPPINES',\n",
       "  'latitude': '12.95',\n",
       "  'longitude': '124.52',\n",
       "  'timestamp': '2022-04-29 19:00'},\n",
       " {'region': 'ISLAND OF HAWAII, HAWAII',\n",
       "  'latitude': '19.25',\n",
       "  'longitude': '155.37',\n",
       "  'timestamp': '2022-04-29 18:33'},\n",
       " {'region': 'FLORES REGION, INDONESIA',\n",
       "  'latitude': '8.90',\n",
       "  'longitude': '123.78',\n",
       "  'timestamp': '2022-04-29 18:30'},\n",
       " {'region': 'SOUTH OF FIJI ISLANDS',\n",
       "  'latitude': '25.05',\n",
       "  'longitude': '176.92',\n",
       "  'timestamp': '2022-04-29 18:42'},\n",
       " {'region': 'MINDANAO, PHILIPPINES',\n",
       "  'latitude': '9.86',\n",
       "  'longitude': '126.11',\n",
       "  'timestamp': '2022-04-29 18:00'},\n",
       " {'region': 'WESTERN TURKEY',\n",
       "  'latitude': '37.05',\n",
       "  'longitude': '28.24',\n",
       "  'timestamp': '2022-04-29 18:32'},\n",
       " {'region': 'VERACRUZ, MEXICO',\n",
       "  'latitude': '17.26',\n",
       "  'longitude': '94.73',\n",
       "  'timestamp': '2022-04-29 17:45'},\n",
       " {'region': 'FRANCE',\n",
       "  'latitude': '45.44',\n",
       "  'longitude': '6.40',\n",
       "  'timestamp': '2022-04-29 17:26'},\n",
       " {'region': 'BANDA SEA',\n",
       "  'latitude': '4.16',\n",
       "  'longitude': '123.32',\n",
       "  'timestamp': '2022-04-29 17:15'},\n",
       " {'region': 'SPAIN',\n",
       "  'latitude': '42.11',\n",
       "  'longitude': '8.16',\n",
       "  'timestamp': '2022-04-29 17:33'},\n",
       " {'region': 'OFFSHORE OAXACA, MEXICO',\n",
       "  'latitude': '15.55',\n",
       "  'longitude': '95.75',\n",
       "  'timestamp': '2022-04-29 16:55'},\n",
       " {'region': 'WESTERN TEXAS',\n",
       "  'latitude': '31.67',\n",
       "  'longitude': '104.43',\n",
       "  'timestamp': '2022-04-29 17:07'},\n",
       " {'region': 'COSTA RICA',\n",
       "  'latitude': '8.41',\n",
       "  'longitude': '83.66',\n",
       "  'timestamp': '2022-04-29 16:50'},\n",
       " {'region': 'STRAIT OF GIBRALTAR',\n",
       "  'latitude': '36.68',\n",
       "  'longitude': '7.26',\n",
       "  'timestamp': '2022-04-29 16:31'},\n",
       " {'region': 'OFFSHORE VALPARAISO, CHILE',\n",
       "  'latitude': '32.45',\n",
       "  'longitude': '71.95',\n",
       "  'timestamp': '2022-04-29 17:07'}]"
      ]
     },
     "execution_count": 106,
     "metadata": {},
     "output_type": "execute_result"
    }
   ],
   "source": [
    "fetch()"
   ]
  },
  {
   "cell_type": "code",
   "execution_count": null,
   "id": "d8c28093",
   "metadata": {},
   "outputs": [],
   "source": [
    "pd.DataFrame(region,latitude,longitude':)"
   ]
  },
  {
   "cell_type": "code",
   "execution_count": null,
   "id": "e0ac4a8b",
   "metadata": {},
   "outputs": [],
   "source": []
  },
  {
   "cell_type": "markdown",
   "id": "2f8587cc",
   "metadata": {},
   "source": [
    "### List all language names and number of related articles in the order they appear in wikipedia.org: url = https://www.wikipedia.org/\n"
   ]
  },
  {
   "cell_type": "code",
   "execution_count": 132,
   "id": "72c2f44d",
   "metadata": {},
   "outputs": [],
   "source": [
    "url = requests.get('https://www.wikipedia.org/')"
   ]
  },
  {
   "cell_type": "code",
   "execution_count": 133,
   "id": "3da57ccb",
   "metadata": {},
   "outputs": [],
   "source": [
    "soup = BeautifulSoup(url.content, \"html.parser\")"
   ]
  },
  {
   "cell_type": "code",
   "execution_count": 137,
   "id": "a338425c",
   "metadata": {},
   "outputs": [
    {
     "data": {
      "text/plain": [
       "[<div class=\"central-featured-lang lang2\" dir=\"ltr\" lang=\"ru\">\n",
       " <a class=\"link-box\" data-slogan=\"Свободная энциклопедия\" href=\"//ru.wikipedia.org/\" id=\"js-link-box-ru\" title=\"Russkiy — Википедия — Свободная энциклопедия\">\n",
       " <strong>Русский</strong>\n",
       " <small><bdi dir=\"ltr\">1 798 000+</bdi> <span>статей</span></small>\n",
       " </a>\n",
       " </div>]"
      ]
     },
     "execution_count": 137,
     "metadata": {},
     "output_type": "execute_result"
    }
   ],
   "source": [
    "languages = soup.find_all('div', {'class': 'central-featured-lang lang2'})\n",
    "languages"
   ]
  },
  {
   "cell_type": "code",
   "execution_count": 139,
   "id": "39c87fb7",
   "metadata": {},
   "outputs": [
    {
     "data": {
      "text/plain": [
       "['Русский\\n1\\xa0798\\xa0000+ статей']"
      ]
     },
     "execution_count": 139,
     "metadata": {},
     "output_type": "execute_result"
    }
   ],
   "source": [
    "x = [x.text.strip() for x in languages]\n",
    "x"
   ]
  }
 ],
 "metadata": {
  "kernelspec": {
   "display_name": "Python 3",
   "language": "python",
   "name": "python3"
  },
  "language_info": {
   "codemirror_mode": {
    "name": "ipython",
    "version": 3
   },
   "file_extension": ".py",
   "mimetype": "text/x-python",
   "name": "python",
   "nbconvert_exporter": "python",
   "pygments_lexer": "ipython3",
   "version": "3.8.8"
  }
 },
 "nbformat": 4,
 "nbformat_minor": 5
}
